{
 "cells": [
  {
   "cell_type": "markdown",
   "metadata": {},
   "source": [
    "K Means Clustering is an Unsupervised Machine Learing Model\n",
    "\n",
    "Limitations:\n",
    "\n",
    "Initial Initilization of centroids can change the outcome of the cluster\n",
    "\n",
    "Centroids can stuck at local minima based on the initial initialization\n"
   ]
  },
  {
   "cell_type": "code",
   "execution_count": 7,
   "metadata": {},
   "outputs": [
    {
     "data": {
      "image/png": "[encoded data removed]",
      "text/plain": [
       "<Figure size 432x288 with 1 Axes>"
      ]
     },
     "metadata": {
      "needs_background": "light"
     },
     "output_type": "display_data"
    }
   ],
   "source": [
    "import matplotlib.pyplot as plt\n",
    "from matplotlib import style\n",
    "import numpy as np\n",
    "\n",
    "data = np.array([[1, 2],[1.2,1.2],[1.5, 1.8],\n",
    "                 [1.6, 2.6],[5, 8 ],[8, 8],\n",
    "                 [6,8],[7,10],[1, 0.6],[9,11]])\n",
    "\n",
    "plt.scatter(data[:,0], data[:,1], s=150)\n",
    "plt.grid(False)\n",
    "plt.show()"
   ]
  },
  {
   "cell_type": "markdown",
   "metadata": {},
   "source": [
    "1. Choose K \n",
    "2. Initialize Random Centroids\n",
    "3. Calculate distance of all data points to centroids\n",
    "4. Assign the each data point to nearest centroid\n",
    "5. Compute mean and update centroid\n",
    "6. Repeat 3 to 5 Steps"
   ]
  },
  {
   "cell_type": "code",
   "execution_count": 8,
   "metadata": {},
   "outputs": [
    {
     "data": {
      "text/plain": [
       "array([[1.2, 1.2],\n",
       "       [1. , 0.6]])"
      ]
     },
     "execution_count": 8,
     "metadata": {},
     "output_type": "execute_result"
    }
   ],
   "source": [
    "## Choosing K value as 2\n",
    "K = 2\n",
    "\n",
    "## Initialize Random Centroids\n",
    "centroids = data[np.random.choice(data.shape[0], K)]\n",
    "\n",
    "centroids"
   ]
  },
  {
   "cell_type": "code",
   "execution_count": 9,
   "metadata": {},
   "outputs": [
    {
     "data": {
      "image/png": "[encoded data removed]",
      "text/plain": [
       "<Figure size 432x288 with 1 Axes>"
      ]
     },
     "metadata": {
      "needs_background": "light"
     },
     "output_type": "display_data"
    }
   ],
   "source": [
    "plt.scatter(data[:,0], data[:,1], s=150)\n",
    "plt.scatter(centroids[:,0], centroids[:,1], s=150);"
   ]
  },
  {
   "cell_type": "code",
   "execution_count": 10,
   "metadata": {},
   "outputs": [],
   "source": [
    "for _ in range(10):\n",
    "    classifications = {}\n",
    "    for i in range(K):\n",
    "        classifications[i] = []\n",
    "\n",
    "    for feature in data:\n",
    "        #Calculate distance to all data points to centroids\n",
    "        distances = [np.linalg.norm(feature - centroid) for centroid in centroids]\n",
    "\n",
    "        ## Assign each data point to the nearest centroid\n",
    "        classification = np.argmin(distances)\n",
    "        classifications[classification].append(feature)\n",
    "\n",
    "    ## Compute mean and update and centroid\n",
    "    for classification in classifications:\n",
    "        centroids[classification] = np.mean(classifications[classification], axis=0)"
   ]
  },
  {
   "cell_type": "code",
   "execution_count": 11,
   "metadata": {},
   "outputs": [
    {
     "data": {
      "image/png": "[encoded data removed]",
      "text/plain": [
       "<Figure size 432x288 with 1 Axes>"
      ]
     },
     "metadata": {
      "needs_background": "light"
     },
     "output_type": "display_data"
    }
   ],
   "source": [
    "plt.scatter(data[:,0], data[:,1], s=150)\n",
    "plt.scatter(centroids[:,0], centroids[:,1], s=150);"
   ]
  },
  {
   "cell_type": "code",
   "execution_count": 12,
   "metadata": {},
   "outputs": [],
   "source": [
    "## Predicting New point "
   ]
  },
  {
   "cell_type": "code",
   "execution_count": 15,
   "metadata": {},
   "outputs": [
    {
     "data": {
      "text/plain": [
       "array([[7.  , 9.  ],\n",
       "       [1.26, 1.64]])"
      ]
     },
     "execution_count": 15,
     "metadata": {},
     "output_type": "execute_result"
    }
   ],
   "source": [
    "centroids"
   ]
  },
  {
   "cell_type": "code",
   "execution_count": 14,
   "metadata": {},
   "outputs": [
    {
     "data": {
      "text/plain": [
       "0"
      ]
     },
     "execution_count": 14,
     "metadata": {},
     "output_type": "execute_result"
    }
   ],
   "source": [
    "test_input = [7,8.5]\n",
    "\n",
    "distances = [np.linalg.norm(test_input - centroid) for centroid in centroids]\n",
    "classification = np.argmin(distances)\n",
    "\n",
    "classification"
   ]
  }
 ],
 "metadata": {
  "kernelspec": {
   "display_name": "Python 3",
   "language": "python",
   "name": "python3"
  },
  "language_info": {
   "codemirror_mode": {
    "name": "ipython",
    "version": 3
   },
   "file_extension": ".py",
   "mimetype": "text/x-python",
   "name": "python",
   "nbconvert_exporter": "python",
   "pygments_lexer": "ipython3",
   "version": "3.7.6"
  }
 },
 "nbformat": 4,
 "nbformat_minor": 4
}
